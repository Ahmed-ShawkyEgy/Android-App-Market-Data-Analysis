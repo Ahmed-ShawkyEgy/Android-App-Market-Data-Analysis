{
 "cells": [
  {
   "cell_type": "markdown",
   "metadata": {},
   "source": [
    "<h2> Formulating Questions </h2>"
   ]
  },
  {
   "cell_type": "markdown",
   "metadata": {},
   "source": [
    "Based on the data provided in the data set, we can try do find an answer to the following questions :-"
   ]
  },
  {
   "cell_type": "markdown",
   "metadata": {},
   "source": [
    "- Q1: What is the possibility of a paid art & design-genre application gets installed over 10000 times ?\n",
    "- Q2: What is the possibility of a business-genre application that is installed over 1000 times gets a rating of 4.4 or more ?\n",
    "- Q3: Find the number of dating apps installed per content rating (eg. Mature, Teen... etc).\n",
    "- Q4: What is the possibility of a music-genre app over the size of 30 MB gets a rating of 4.0 or more ?"
   ]
  },
  {
   "cell_type": "markdown",
   "metadata": {},
   "source": [
    "Thus we have no need for the following columns :-\n",
    "\n",
    "*App - Reviews - Type - Category - Last Updated - Current Ver - Android Ver - Primary Gerners - Secondary Genres*\n",
    "\n",
    "we then omit them to reduce the data arity."
   ]
  },
  {
   "cell_type": "markdown",
   "metadata": {},
   "source": [
    "<h2>Import dependencies</h2>"
   ]
  },
  {
   "cell_type": "code",
   "execution_count": 174,
   "metadata": {},
   "outputs": [],
   "source": [
    "import pandas as pd\n",
    "import numpy as np\n",
    "import matplotlib.pyplot as plt"
   ]
  },
  {
   "cell_type": "markdown",
   "metadata": {},
   "source": [
    "<h2>Import data</h2>"
   ]
  },
  {
   "cell_type": "code",
   "execution_count": 175,
   "metadata": {},
   "outputs": [
    {
     "data": {
      "text/html": [
       "<div>\n",
       "<style scoped>\n",
       "    .dataframe tbody tr th:only-of-type {\n",
       "        vertical-align: middle;\n",
       "    }\n",
       "\n",
       "    .dataframe tbody tr th {\n",
       "        vertical-align: top;\n",
       "    }\n",
       "\n",
       "    .dataframe thead th {\n",
       "        text-align: right;\n",
       "    }\n",
       "</style>\n",
       "<table border=\"1\" class=\"dataframe\">\n",
       "  <thead>\n",
       "    <tr style=\"text-align: right;\">\n",
       "      <th></th>\n",
       "      <th>App</th>\n",
       "      <th>Category</th>\n",
       "      <th>Rating</th>\n",
       "      <th>Reviews</th>\n",
       "      <th>Size</th>\n",
       "      <th>Installs</th>\n",
       "      <th>Type</th>\n",
       "      <th>Price</th>\n",
       "      <th>Content Rating</th>\n",
       "      <th>Genres</th>\n",
       "      <th>Last Updated</th>\n",
       "      <th>Current Ver</th>\n",
       "      <th>Android Ver</th>\n",
       "      <th>Primary Genres</th>\n",
       "      <th>Secondary Genres</th>\n",
       "    </tr>\n",
       "  </thead>\n",
       "  <tbody>\n",
       "    <tr>\n",
       "      <th>0</th>\n",
       "      <td>Photo Editor &amp; Candy Camera &amp; Grid &amp; ScrapBook</td>\n",
       "      <td>ART_AND_DESIGN</td>\n",
       "      <td>4.1</td>\n",
       "      <td>159</td>\n",
       "      <td>19000000.0</td>\n",
       "      <td>10000</td>\n",
       "      <td>Free</td>\n",
       "      <td>0.0</td>\n",
       "      <td>1</td>\n",
       "      <td>Art &amp; Design</td>\n",
       "      <td>7-Jan-18</td>\n",
       "      <td>1.0.0</td>\n",
       "      <td>4.0.3 and up</td>\n",
       "      <td>Art &amp; Design</td>\n",
       "      <td>NaN</td>\n",
       "    </tr>\n",
       "    <tr>\n",
       "      <th>1</th>\n",
       "      <td>Coloring book moana</td>\n",
       "      <td>ART_AND_DESIGN</td>\n",
       "      <td>3.9</td>\n",
       "      <td>967</td>\n",
       "      <td>14000000.0</td>\n",
       "      <td>500000</td>\n",
       "      <td>Free</td>\n",
       "      <td>0.0</td>\n",
       "      <td>1</td>\n",
       "      <td>Art &amp; Design;Pretend Play</td>\n",
       "      <td>15-Jan-18</td>\n",
       "      <td>2.0.0</td>\n",
       "      <td>4.0.3 and up</td>\n",
       "      <td>Art &amp; Design</td>\n",
       "      <td>Pretend Play</td>\n",
       "    </tr>\n",
       "    <tr>\n",
       "      <th>2</th>\n",
       "      <td>U Launcher Lite – FREE Live Cool Themes, Hide ...</td>\n",
       "      <td>ART_AND_DESIGN</td>\n",
       "      <td>4.7</td>\n",
       "      <td>87510</td>\n",
       "      <td>8700000.0</td>\n",
       "      <td>5000000</td>\n",
       "      <td>Free</td>\n",
       "      <td>0.0</td>\n",
       "      <td>1</td>\n",
       "      <td>Art &amp; Design</td>\n",
       "      <td>1-Aug-18</td>\n",
       "      <td>1.2.4</td>\n",
       "      <td>4.0.3 and up</td>\n",
       "      <td>Art &amp; Design</td>\n",
       "      <td>NaN</td>\n",
       "    </tr>\n",
       "    <tr>\n",
       "      <th>3</th>\n",
       "      <td>Sketch - Draw &amp; Paint</td>\n",
       "      <td>ART_AND_DESIGN</td>\n",
       "      <td>4.5</td>\n",
       "      <td>215644</td>\n",
       "      <td>25000000.0</td>\n",
       "      <td>50000000</td>\n",
       "      <td>Free</td>\n",
       "      <td>0.0</td>\n",
       "      <td>2</td>\n",
       "      <td>Art &amp; Design</td>\n",
       "      <td>8-Jun-18</td>\n",
       "      <td>Varies with device</td>\n",
       "      <td>4.2 and up</td>\n",
       "      <td>Art &amp; Design</td>\n",
       "      <td>NaN</td>\n",
       "    </tr>\n",
       "    <tr>\n",
       "      <th>4</th>\n",
       "      <td>Pixel Draw - Number Art Coloring Book</td>\n",
       "      <td>ART_AND_DESIGN</td>\n",
       "      <td>4.3</td>\n",
       "      <td>967</td>\n",
       "      <td>2800000.0</td>\n",
       "      <td>100000</td>\n",
       "      <td>Free</td>\n",
       "      <td>0.0</td>\n",
       "      <td>1</td>\n",
       "      <td>Art &amp; Design;Creativity</td>\n",
       "      <td>20-Jun-18</td>\n",
       "      <td>1.1</td>\n",
       "      <td>4.4 and up</td>\n",
       "      <td>Art &amp; Design</td>\n",
       "      <td>Creativity</td>\n",
       "    </tr>\n",
       "  </tbody>\n",
       "</table>\n",
       "</div>"
      ],
      "text/plain": [
       "                                                 App        Category  Rating  \\\n",
       "0     Photo Editor & Candy Camera & Grid & ScrapBook  ART_AND_DESIGN     4.1   \n",
       "1                                Coloring book moana  ART_AND_DESIGN     3.9   \n",
       "2  U Launcher Lite – FREE Live Cool Themes, Hide ...  ART_AND_DESIGN     4.7   \n",
       "3                              Sketch - Draw & Paint  ART_AND_DESIGN     4.5   \n",
       "4              Pixel Draw - Number Art Coloring Book  ART_AND_DESIGN     4.3   \n",
       "\n",
       "   Reviews        Size  Installs  Type  Price  Content Rating  \\\n",
       "0      159  19000000.0     10000  Free    0.0               1   \n",
       "1      967  14000000.0    500000  Free    0.0               1   \n",
       "2    87510   8700000.0   5000000  Free    0.0               1   \n",
       "3   215644  25000000.0  50000000  Free    0.0               2   \n",
       "4      967   2800000.0    100000  Free    0.0               1   \n",
       "\n",
       "                      Genres Last Updated         Current Ver   Android Ver  \\\n",
       "0               Art & Design     7-Jan-18               1.0.0  4.0.3 and up   \n",
       "1  Art & Design;Pretend Play    15-Jan-18               2.0.0  4.0.3 and up   \n",
       "2               Art & Design     1-Aug-18               1.2.4  4.0.3 and up   \n",
       "3               Art & Design     8-Jun-18  Varies with device    4.2 and up   \n",
       "4    Art & Design;Creativity    20-Jun-18                 1.1    4.4 and up   \n",
       "\n",
       "  Primary Genres Secondary Genres  \n",
       "0   Art & Design              NaN  \n",
       "1   Art & Design     Pretend Play  \n",
       "2   Art & Design              NaN  \n",
       "3   Art & Design              NaN  \n",
       "4   Art & Design       Creativity  "
      ]
     },
     "execution_count": 175,
     "metadata": {},
     "output_type": "execute_result"
    }
   ],
   "source": [
    "data = pd.read_csv(\"./data/googleplaystore_clean.csv\")\n",
    "data.head()"
   ]
  },
  {
   "cell_type": "code",
   "execution_count": 176,
   "metadata": {},
   "outputs": [
    {
     "data": {
      "text/html": [
       "<div>\n",
       "<style scoped>\n",
       "    .dataframe tbody tr th:only-of-type {\n",
       "        vertical-align: middle;\n",
       "    }\n",
       "\n",
       "    .dataframe tbody tr th {\n",
       "        vertical-align: top;\n",
       "    }\n",
       "\n",
       "    .dataframe thead th {\n",
       "        text-align: right;\n",
       "    }\n",
       "</style>\n",
       "<table border=\"1\" class=\"dataframe\">\n",
       "  <thead>\n",
       "    <tr style=\"text-align: right;\">\n",
       "      <th></th>\n",
       "      <th>Rating</th>\n",
       "      <th>Size</th>\n",
       "      <th>Installs</th>\n",
       "      <th>Price</th>\n",
       "      <th>Content Rating</th>\n",
       "      <th>Genres</th>\n",
       "    </tr>\n",
       "  </thead>\n",
       "  <tbody>\n",
       "    <tr>\n",
       "      <th>0</th>\n",
       "      <td>4.1</td>\n",
       "      <td>19000000.0</td>\n",
       "      <td>10000</td>\n",
       "      <td>0.0</td>\n",
       "      <td>1</td>\n",
       "      <td>Art &amp; Design</td>\n",
       "    </tr>\n",
       "    <tr>\n",
       "      <th>1</th>\n",
       "      <td>3.9</td>\n",
       "      <td>14000000.0</td>\n",
       "      <td>500000</td>\n",
       "      <td>0.0</td>\n",
       "      <td>1</td>\n",
       "      <td>Art &amp; Design;Pretend Play</td>\n",
       "    </tr>\n",
       "    <tr>\n",
       "      <th>2</th>\n",
       "      <td>4.7</td>\n",
       "      <td>8700000.0</td>\n",
       "      <td>5000000</td>\n",
       "      <td>0.0</td>\n",
       "      <td>1</td>\n",
       "      <td>Art &amp; Design</td>\n",
       "    </tr>\n",
       "    <tr>\n",
       "      <th>3</th>\n",
       "      <td>4.5</td>\n",
       "      <td>25000000.0</td>\n",
       "      <td>50000000</td>\n",
       "      <td>0.0</td>\n",
       "      <td>2</td>\n",
       "      <td>Art &amp; Design</td>\n",
       "    </tr>\n",
       "    <tr>\n",
       "      <th>4</th>\n",
       "      <td>4.3</td>\n",
       "      <td>2800000.0</td>\n",
       "      <td>100000</td>\n",
       "      <td>0.0</td>\n",
       "      <td>1</td>\n",
       "      <td>Art &amp; Design;Creativity</td>\n",
       "    </tr>\n",
       "  </tbody>\n",
       "</table>\n",
       "</div>"
      ],
      "text/plain": [
       "   Rating        Size  Installs  Price  Content Rating  \\\n",
       "0     4.1  19000000.0     10000    0.0               1   \n",
       "1     3.9  14000000.0    500000    0.0               1   \n",
       "2     4.7   8700000.0   5000000    0.0               1   \n",
       "3     4.5  25000000.0  50000000    0.0               2   \n",
       "4     4.3   2800000.0    100000    0.0               1   \n",
       "\n",
       "                      Genres  \n",
       "0               Art & Design  \n",
       "1  Art & Design;Pretend Play  \n",
       "2               Art & Design  \n",
       "3               Art & Design  \n",
       "4    Art & Design;Creativity  "
      ]
     },
     "execution_count": 176,
     "metadata": {},
     "output_type": "execute_result"
    }
   ],
   "source": [
    "# We delete the unnecessary columns\n",
    "reduced_data = data.drop([\"App\", \"Reviews\", \"Type\", \"Category\", \"Last Updated\", \"Current Ver\", \"Android Ver\", \"Primary Genres\", \"Secondary Genres\"], axis=1)\n",
    "reduced_data.head()"
   ]
  },
  {
   "cell_type": "code",
   "execution_count": 177,
   "metadata": {},
   "outputs": [
    {
     "data": {
      "text/html": [
       "<div>\n",
       "<style scoped>\n",
       "    .dataframe tbody tr th:only-of-type {\n",
       "        vertical-align: middle;\n",
       "    }\n",
       "\n",
       "    .dataframe tbody tr th {\n",
       "        vertical-align: top;\n",
       "    }\n",
       "\n",
       "    .dataframe thead th {\n",
       "        text-align: right;\n",
       "    }\n",
       "</style>\n",
       "<table border=\"1\" class=\"dataframe\">\n",
       "  <thead>\n",
       "    <tr style=\"text-align: right;\">\n",
       "      <th></th>\n",
       "      <th>Rating</th>\n",
       "      <th>Size</th>\n",
       "      <th>Installs</th>\n",
       "      <th>Price</th>\n",
       "      <th>Content Rating</th>\n",
       "      <th>Genres</th>\n",
       "    </tr>\n",
       "  </thead>\n",
       "  <tbody>\n",
       "    <tr>\n",
       "      <th>2999</th>\n",
       "      <td>4.7</td>\n",
       "      <td>3500000.0</td>\n",
       "      <td>5000</td>\n",
       "      <td>1.99</td>\n",
       "      <td>1</td>\n",
       "      <td>Art &amp; Design</td>\n",
       "    </tr>\n",
       "    <tr>\n",
       "      <th>3003</th>\n",
       "      <td>4.8</td>\n",
       "      <td>8600000.0</td>\n",
       "      <td>10000</td>\n",
       "      <td>1.99</td>\n",
       "      <td>1</td>\n",
       "      <td>Art &amp; Design</td>\n",
       "    </tr>\n",
       "    <tr>\n",
       "      <th>3008</th>\n",
       "      <td>4.7</td>\n",
       "      <td>3500000.0</td>\n",
       "      <td>1000</td>\n",
       "      <td>1.99</td>\n",
       "      <td>1</td>\n",
       "      <td>Art &amp; Design</td>\n",
       "    </tr>\n",
       "  </tbody>\n",
       "</table>\n",
       "</div>"
      ],
      "text/plain": [
       "      Rating       Size  Installs  Price  Content Rating        Genres\n",
       "2999     4.7  3500000.0      5000   1.99               1  Art & Design\n",
       "3003     4.8  8600000.0     10000   1.99               1  Art & Design\n",
       "3008     4.7  3500000.0      1000   1.99               1  Art & Design"
      ]
     },
     "execution_count": 177,
     "metadata": {},
     "output_type": "execute_result"
    },
    {
     "data": {
      "image/png": "[encoded data removed]",
      "text/plain": [
       "<Figure size 432x288 with 1 Axes>"
      ]
     },
     "metadata": {
      "needs_background": "light"
     },
     "output_type": "display_data"
    }
   ],
   "source": [
    "# Q1 : What is the possibility of a paid art & design-genre application gets installed over 10000 times ?\n",
    "\n",
    "#  We get only the paid apps\n",
    "x = reduced_data[reduced_data['Price'].gt(0)]\n",
    "\n",
    "# Then we filter by the genre 'Art & Design'\n",
    "x = x[x['Genres'] == 'Art & Design']\n",
    "\n",
    "# We plot a histogram to visualize the data\n",
    "x['Installs'].plot(kind='hist', bins=100)\n",
    "plt.xlabel('Number Of Installs')\n",
    "x"
   ]
  },
  {
   "cell_type": "code",
   "execution_count": 178,
   "metadata": {},
   "outputs": [
    {
     "name": "stdout",
     "output_type": "stream",
     "text": [
      "0.3333333333333333\n"
     ]
    }
   ],
   "source": [
    "# Answer 1 :-\n",
    "\n",
    "# The probability would be the number of apps installed more than 10000 times over the total number of X\n",
    "A1 = len(x[x['Installs'].ge(10000)].index) / len(x.index)\n",
    "\n",
    "print(A1)\n"
   ]
  },
  {
   "cell_type": "markdown",
   "metadata": {},
   "source": [
    "Thus we have **1/3** probability that an Art/Design paid app gets installed over 10000 times."
   ]
  },
  {
   "cell_type": "code",
   "execution_count": 179,
   "metadata": {},
   "outputs": [
    {
     "data": {
      "text/plain": [
       "Text(0.5, 0, 'Rating')"
      ]
     },
     "execution_count": 179,
     "metadata": {},
     "output_type": "execute_result"
    },
    {
     "data": {
      "image/png": "[encoded data removed]",
      "text/plain": [
       "<Figure size 432x288 with 1 Axes>"
      ]
     },
     "metadata": {
      "needs_background": "light"
     },
     "output_type": "display_data"
    }
   ],
   "source": [
    "# Q2: What is the possibility of a business-genre application that is installed over 1000 times gets a rating of 4.4 or more ?\n",
    "\n",
    "#  We filter the data that has less than 1000 installs.\n",
    "x = reduced_data[reduced_data['Installs'].gt(1000)]\n",
    "\n",
    "# Then we fillter by genres to get only 'Buisness' genre.\n",
    "x = x[x['Genres'] == 'Business']\n",
    "\n",
    "# We plot a histogram to visualize the data\n",
    "x['Rating'].plot(kind='hist', bins=100)\n",
    "plt.xlabel('Rating')"
   ]
  },
  {
   "cell_type": "code",
   "execution_count": 180,
   "metadata": {},
   "outputs": [
    {
     "name": "stdout",
     "output_type": "stream",
     "text": [
      "0.36054421768707484\n"
     ]
    }
   ],
   "source": [
    "# Answer 2 :-\n",
    "\n",
    "# The probability would be the number of apps in X has a rating greater than or equal 4.4 over the total number of apps in X\n",
    "A2 = len(x[x['Rating'].ge(4.4)].index) / len(x.index)\n",
    "\n",
    "print(A2)\n"
   ]
  },
  {
   "cell_type": "markdown",
   "metadata": {},
   "source": [
    "Thus we have **0.3605** probability that a business-genre application that is installed over 1000 times gets a rating of 4.4 or more."
   ]
  },
  {
   "cell_type": "code",
   "execution_count": 181,
   "metadata": {},
   "outputs": [
    {
     "name": "stdout",
     "output_type": "stream",
     "text": [
      "Number Of Installs For Dating Apps With Everyone Rating = 1017396\n",
      "Number Of Installs For Dating Apps With Teen Rating = 1010910\n",
      "Number Of Installs For Dating Apps With Everyone 10+ Rating = 0\n",
      "Number Of Installs For Dating Apps With Mature 17+ Rating = 82577801\n",
      "Number Of Installs For Dating Apps With Adults only 18+ Rating = 0\n",
      "Number Of Installs For Dating Apps With Unrated Rating = 1010910\n"
     ]
    },
    {
     "data": {
      "image/png": "[encoded data removed]",
      "text/plain": [
       "<Figure size 432x288 with 1 Axes>"
      ]
     },
     "metadata": {
      "needs_background": "light"
     },
     "output_type": "display_data"
    }
   ],
   "source": [
    "# Q3: Find the number of dating apps installed per content rating (eg. Mature, Teen... etc).\n",
    "\n",
    "# First fillter the data to deal with only the genre 'Dating'\n",
    "x = reduced_data[reduced_data['Genres'] == 'Dating']\n",
    "\n",
    "# Answer 3:-\n",
    "\n",
    "# We calculate thre number of installs per each content rating\n",
    "r1 = x[x[\"Content Rating\"].eq(1)]['Installs'].sum()\n",
    "r2 = x[x[\"Content Rating\"].eq(2)]['Installs'].sum()\n",
    "r3 = x[x[\"Content Rating\"].eq(3)]['Installs'].sum()\n",
    "r4 = x[x[\"Content Rating\"].eq(4)]['Installs'].sum()\n",
    "r5 = x[x[\"Content Rating\"].eq(5)]['Installs'].sum()\n",
    "r0 = x[x[\"Content Rating\"].eq(2)]['Installs'].sum()\n",
    "\n",
    "# Then we put it into a new data frame to plot it\n",
    "A3 = pd.DataFrame()\n",
    "\n",
    "A3['Installs'] = [r1, r2, r3, r4, r5, r0]\n",
    "A3['Content Rating'] = [1, 2, 3, 4, 5, 0]\n",
    "\n",
    "A3.plot(x = 'Content Rating', y='Installs', kind='bar')\n",
    "\n",
    "print(\"Number Of Installs For Dating Apps With Everyone Rating = \" + str(r1))\n",
    "print(\"Number Of Installs For Dating Apps With Teen Rating = \" + str(r2))\n",
    "print(\"Number Of Installs For Dating Apps With Everyone 10+ Rating = \" + str(r3))\n",
    "print(\"Number Of Installs For Dating Apps With Mature 17+ Rating = \" + str(r4))\n",
    "print(\"Number Of Installs For Dating Apps With Adults only 18+ Rating = \" + str(r5))\n",
    "print(\"Number Of Installs For Dating Apps With Unrated Rating = \" + str(r0))"
   ]
  },
  {
   "cell_type": "markdown",
   "metadata": {},
   "source": [
    "The majority of the dating apps installed has a rating of **Mature 17+**"
   ]
  },
  {
   "cell_type": "code",
   "execution_count": 182,
   "metadata": {},
   "outputs": [
    {
     "data": {
      "text/plain": [
       "Text(0.5, 0, 'Rating')"
      ]
     },
     "execution_count": 182,
     "metadata": {},
     "output_type": "execute_result"
    },
    {
     "data": {
      "image/png": "[encoded data removed]",
      "text/plain": [
       "<Figure size 432x288 with 1 Axes>"
      ]
     },
     "metadata": {
      "needs_background": "light"
     },
     "output_type": "display_data"
    }
   ],
   "source": [
    "# Q4: How many apps that are over 30 MB in size of genre music has rating of 4.4 or more ?\n",
    "\n",
    "# First we fillter by the size of app\n",
    "x = reduced_data[reduced_data['Size'].gt(30000000)]\n",
    "\n",
    "# Then we only consider the music genre apps\n",
    "x = x[x['Genres'] == 'Music']\n",
    "\n",
    "# After that we plot a histogram\n",
    "x['Rating'].plot(kind='hist', bins=100)\n",
    "plt.xlabel('Rating')"
   ]
  },
  {
   "cell_type": "code",
   "execution_count": 184,
   "metadata": {},
   "outputs": [
    {
     "name": "stdout",
     "output_type": "stream",
     "text": [
      "0.7777777777777778\n"
     ]
    }
   ],
   "source": [
    "# Answer 4 :-\n",
    "\n",
    "# The probability would be the number of apps in X has a rating greater than or equal 4.0 over the total number of apps in X\n",
    "A4 = len(x[x['Rating'].ge(4.0)].index) / len(x.index)\n",
    "\n",
    "print(A4)\n"
   ]
  },
  {
   "cell_type": "markdown",
   "metadata": {},
   "source": [
    "Thus we have **0.7778** probability that a music-genre application over the size of 30MB gets a rating of 4.0 or more."
   ]
  }
 ],
 "metadata": {
  "kernelspec": {
   "display_name": "Python 3",
   "language": "python",
   "name": "python3"
  },
  "language_info": {
   "codemirror_mode": {
    "name": "ipython",
    "version": 3
   },
   "file_extension": ".py",
   "mimetype": "text/x-python",
   "name": "python",
   "nbconvert_exporter": "python",
   "pygments_lexer": "ipython3",
   "version": "3.7.3"
  }
 },
 "nbformat": 4,
 "nbformat_minor": 2
}
